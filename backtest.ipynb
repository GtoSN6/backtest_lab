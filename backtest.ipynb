{
  "nbformat": 4,
  "nbformat_minor": 0,
  "metadata": {
    "colab": {
      "provenance": [],
      "authorship_tag": "ABX9TyNrd6CgJ9H1OuPpHG1wKEN3",
      "include_colab_link": true
    },
    "kernelspec": {
      "name": "python3",
      "display_name": "Python 3"
    },
    "language_info": {
      "name": "python"
    }
  },
  "cells": [
    {
      "cell_type": "markdown",
      "metadata": {
        "id": "view-in-github",
        "colab_type": "text"
      },
      "source": [
        "<a href=\"https://colab.research.google.com/github/GtoSN6/backtest_lab/blob/main/backtest.ipynb\" target=\"_parent\"><img src=\"https://colab.research.google.com/assets/colab-badge.svg\" alt=\"Open In Colab\"/></a>"
      ]
    },
    {
      "cell_type": "code",
      "source": [
        "# Install if not already installed\n",
        "!pip install -q pandas_ta backtrader\n",
        "\n"
      ],
      "metadata": {
        "id": "leVcZxPr1xhS"
      },
      "execution_count": 8,
      "outputs": []
    },
    {
      "cell_type": "code",
      "source": [
        "from google.colab import files\n",
        "uploaded = files.upload()\n"
      ],
      "metadata": {
        "colab": {
          "base_uri": "https://localhost:8080/",
          "height": 73
        },
        "id": "1GPKXXkH3hCb",
        "outputId": "2873a1b5-5696-4e94-e2e0-365d12ec1a0c"
      },
      "execution_count": 9,
      "outputs": [
        {
          "output_type": "display_data",
          "data": {
            "text/plain": [
              "<IPython.core.display.HTML object>"
            ],
            "text/html": [
              "\n",
              "     <input type=\"file\" id=\"files-569ba423-9d53-4d80-8a10-296c7cc4fcbe\" name=\"files[]\" multiple disabled\n",
              "        style=\"border:none\" />\n",
              "     <output id=\"result-569ba423-9d53-4d80-8a10-296c7cc4fcbe\">\n",
              "      Upload widget is only available when the cell has been executed in the\n",
              "      current browser session. Please rerun this cell to enable.\n",
              "      </output>\n",
              "      <script>// Copyright 2017 Google LLC\n",
              "//\n",
              "// Licensed under the Apache License, Version 2.0 (the \"License\");\n",
              "// you may not use this file except in compliance with the License.\n",
              "// You may obtain a copy of the License at\n",
              "//\n",
              "//      http://www.apache.org/licenses/LICENSE-2.0\n",
              "//\n",
              "// Unless required by applicable law or agreed to in writing, software\n",
              "// distributed under the License is distributed on an \"AS IS\" BASIS,\n",
              "// WITHOUT WARRANTIES OR CONDITIONS OF ANY KIND, either express or implied.\n",
              "// See the License for the specific language governing permissions and\n",
              "// limitations under the License.\n",
              "\n",
              "/**\n",
              " * @fileoverview Helpers for google.colab Python module.\n",
              " */\n",
              "(function(scope) {\n",
              "function span(text, styleAttributes = {}) {\n",
              "  const element = document.createElement('span');\n",
              "  element.textContent = text;\n",
              "  for (const key of Object.keys(styleAttributes)) {\n",
              "    element.style[key] = styleAttributes[key];\n",
              "  }\n",
              "  return element;\n",
              "}\n",
              "\n",
              "// Max number of bytes which will be uploaded at a time.\n",
              "const MAX_PAYLOAD_SIZE = 100 * 1024;\n",
              "\n",
              "function _uploadFiles(inputId, outputId) {\n",
              "  const steps = uploadFilesStep(inputId, outputId);\n",
              "  const outputElement = document.getElementById(outputId);\n",
              "  // Cache steps on the outputElement to make it available for the next call\n",
              "  // to uploadFilesContinue from Python.\n",
              "  outputElement.steps = steps;\n",
              "\n",
              "  return _uploadFilesContinue(outputId);\n",
              "}\n",
              "\n",
              "// This is roughly an async generator (not supported in the browser yet),\n",
              "// where there are multiple asynchronous steps and the Python side is going\n",
              "// to poll for completion of each step.\n",
              "// This uses a Promise to block the python side on completion of each step,\n",
              "// then passes the result of the previous step as the input to the next step.\n",
              "function _uploadFilesContinue(outputId) {\n",
              "  const outputElement = document.getElementById(outputId);\n",
              "  const steps = outputElement.steps;\n",
              "\n",
              "  const next = steps.next(outputElement.lastPromiseValue);\n",
              "  return Promise.resolve(next.value.promise).then((value) => {\n",
              "    // Cache the last promise value to make it available to the next\n",
              "    // step of the generator.\n",
              "    outputElement.lastPromiseValue = value;\n",
              "    return next.value.response;\n",
              "  });\n",
              "}\n",
              "\n",
              "/**\n",
              " * Generator function which is called between each async step of the upload\n",
              " * process.\n",
              " * @param {string} inputId Element ID of the input file picker element.\n",
              " * @param {string} outputId Element ID of the output display.\n",
              " * @return {!Iterable<!Object>} Iterable of next steps.\n",
              " */\n",
              "function* uploadFilesStep(inputId, outputId) {\n",
              "  const inputElement = document.getElementById(inputId);\n",
              "  inputElement.disabled = false;\n",
              "\n",
              "  const outputElement = document.getElementById(outputId);\n",
              "  outputElement.innerHTML = '';\n",
              "\n",
              "  const pickedPromise = new Promise((resolve) => {\n",
              "    inputElement.addEventListener('change', (e) => {\n",
              "      resolve(e.target.files);\n",
              "    });\n",
              "  });\n",
              "\n",
              "  const cancel = document.createElement('button');\n",
              "  inputElement.parentElement.appendChild(cancel);\n",
              "  cancel.textContent = 'Cancel upload';\n",
              "  const cancelPromise = new Promise((resolve) => {\n",
              "    cancel.onclick = () => {\n",
              "      resolve(null);\n",
              "    };\n",
              "  });\n",
              "\n",
              "  // Wait for the user to pick the files.\n",
              "  const files = yield {\n",
              "    promise: Promise.race([pickedPromise, cancelPromise]),\n",
              "    response: {\n",
              "      action: 'starting',\n",
              "    }\n",
              "  };\n",
              "\n",
              "  cancel.remove();\n",
              "\n",
              "  // Disable the input element since further picks are not allowed.\n",
              "  inputElement.disabled = true;\n",
              "\n",
              "  if (!files) {\n",
              "    return {\n",
              "      response: {\n",
              "        action: 'complete',\n",
              "      }\n",
              "    };\n",
              "  }\n",
              "\n",
              "  for (const file of files) {\n",
              "    const li = document.createElement('li');\n",
              "    li.append(span(file.name, {fontWeight: 'bold'}));\n",
              "    li.append(span(\n",
              "        `(${file.type || 'n/a'}) - ${file.size} bytes, ` +\n",
              "        `last modified: ${\n",
              "            file.lastModifiedDate ? file.lastModifiedDate.toLocaleDateString() :\n",
              "                                    'n/a'} - `));\n",
              "    const percent = span('0% done');\n",
              "    li.appendChild(percent);\n",
              "\n",
              "    outputElement.appendChild(li);\n",
              "\n",
              "    const fileDataPromise = new Promise((resolve) => {\n",
              "      const reader = new FileReader();\n",
              "      reader.onload = (e) => {\n",
              "        resolve(e.target.result);\n",
              "      };\n",
              "      reader.readAsArrayBuffer(file);\n",
              "    });\n",
              "    // Wait for the data to be ready.\n",
              "    let fileData = yield {\n",
              "      promise: fileDataPromise,\n",
              "      response: {\n",
              "        action: 'continue',\n",
              "      }\n",
              "    };\n",
              "\n",
              "    // Use a chunked sending to avoid message size limits. See b/62115660.\n",
              "    let position = 0;\n",
              "    do {\n",
              "      const length = Math.min(fileData.byteLength - position, MAX_PAYLOAD_SIZE);\n",
              "      const chunk = new Uint8Array(fileData, position, length);\n",
              "      position += length;\n",
              "\n",
              "      const base64 = btoa(String.fromCharCode.apply(null, chunk));\n",
              "      yield {\n",
              "        response: {\n",
              "          action: 'append',\n",
              "          file: file.name,\n",
              "          data: base64,\n",
              "        },\n",
              "      };\n",
              "\n",
              "      let percentDone = fileData.byteLength === 0 ?\n",
              "          100 :\n",
              "          Math.round((position / fileData.byteLength) * 100);\n",
              "      percent.textContent = `${percentDone}% done`;\n",
              "\n",
              "    } while (position < fileData.byteLength);\n",
              "  }\n",
              "\n",
              "  // All done.\n",
              "  yield {\n",
              "    response: {\n",
              "      action: 'complete',\n",
              "    }\n",
              "  };\n",
              "}\n",
              "\n",
              "scope.google = scope.google || {};\n",
              "scope.google.colab = scope.google.colab || {};\n",
              "scope.google.colab._files = {\n",
              "  _uploadFiles,\n",
              "  _uploadFilesContinue,\n",
              "};\n",
              "})(self);\n",
              "</script> "
            ]
          },
          "metadata": {}
        },
        {
          "output_type": "stream",
          "name": "stdout",
          "text": [
            "Saving XAUUSD_H1_201001040100_202507252300.csv to XAUUSD_H1_201001040100_202507252300.csv\n"
          ]
        }
      ]
    },
    {
      "cell_type": "code",
      "source": [
        "import pandas as pd\n",
        "\n",
        "# Replace 'yourfile.csv' with actual file name after upload\n",
        "df = pd.read_csv('XAUUSD_H1_201001040100_202507252300.csv')\n",
        "print(df.head())\n"
      ],
      "metadata": {
        "colab": {
          "base_uri": "https://localhost:8080/"
        },
        "id": "79MDHihN3s5R",
        "outputId": "f943b915-ab34-4ffa-bfb3-2e643c38bb64"
      },
      "execution_count": 13,
      "outputs": [
        {
          "output_type": "stream",
          "name": "stdout",
          "text": [
            "       <DATE>    <TIME>   <OPEN>   <HIGH>    <LOW>  <CLOSE>  <TICKVOL>  <VOL>  \\\n",
            "0  2010.01.04  01:00:00  1094.61  1096.90  1093.08  1094.49       3364      0   \n",
            "1  2010.01.04  02:00:00  1094.95  1095.95  1094.00  1095.65       3017      0   \n",
            "2  2010.01.04  03:00:00  1095.35  1099.15  1095.28  1097.87       3242      0   \n",
            "3  2010.01.04  04:00:00  1097.87  1099.64  1096.95  1098.89       2677      0   \n",
            "4  2010.01.04  05:00:00  1098.86  1102.75  1098.52  1101.60       2954      0   \n",
            "\n",
            "   <SPREAD>  \n",
            "0         0  \n",
            "1         0  \n",
            "2         0  \n",
            "3         0  \n",
            "4         0  \n"
          ]
        }
      ]
    },
    {
      "cell_type": "code",
      "source": [
        "import pandas as pd\n",
        "\n",
        "# Read the file\n",
        "df = pd.read_csv(\"XAUUSD_H1_201901040100_202507252300.csv\")\n",
        "\n",
        "# Rename columns (strip < >)\n",
        "df.columns = [col.strip('<>').capitalize() for col in df.columns]\n",
        "\n",
        "# Combine Date and Time into one datetime column\n",
        "df['Datetime'] = pd.to_datetime(df['Date'] + ' ' + df['Time'])\n",
        "\n",
        "# Drop original Date and Time columns\n",
        "df.drop(columns=['Date', 'Time'], inplace=True)\n",
        "\n",
        "# Optional: Drop Vol and Spread if they are all 0\n",
        "df.drop(columns=['Vol', 'Spread'], inplace=True)\n",
        "\n",
        "# Set Datetime as index\n",
        "df.set_index('Datetime', inplace=True)\n",
        "\n",
        "# Show formatted head\n",
        "print(df.head())\n"
      ],
      "metadata": {
        "colab": {
          "base_uri": "https://localhost:8080/"
        },
        "id": "TAiRSRf36eUZ",
        "outputId": "1bd8cdd0-bd8c-497e-b308-acec5cbc0816"
      },
      "execution_count": 17,
      "outputs": [
        {
          "output_type": "stream",
          "name": "stdout",
          "text": [
            "                        Open     High      Low    Close  Tickvol\n",
            "Datetime                                                        \n",
            "2010-01-04 01:00:00  1094.61  1096.90  1093.08  1094.49     3364\n",
            "2010-01-04 02:00:00  1094.95  1095.95  1094.00  1095.65     3017\n",
            "2010-01-04 03:00:00  1095.35  1099.15  1095.28  1097.87     3242\n",
            "2010-01-04 04:00:00  1097.87  1099.64  1096.95  1098.89     2677\n",
            "2010-01-04 05:00:00  1098.86  1102.75  1098.52  1101.60     2954\n"
          ]
        }
      ]
    },
    {
      "cell_type": "code",
      "source": [
        "import backtrader as bt\n",
        "import pandas as pd\n",
        "\n",
        "# 1. Custom Data Feed\n",
        "class CustomPandasData(bt.feeds.PandasData):\n",
        "    lines = ('trend',)\n",
        "    params = (('trend', -1),)\n",
        "\n",
        "# 2. Strategy Class (you already have this)\n",
        "class BelugaTrendStrategy(bt.Strategy):\n",
        "    def __init__(self):\n",
        "        self.trend = self.datas[0].trend\n",
        "        self.buy_price = None\n",
        "        self.trades = []\n",
        "\n",
        "    def next(self):\n",
        "        if not self.position:\n",
        "            if self.trend[0] == 1:  # Buy\n",
        "                self.buy_price = self.data.close[0]\n",
        "                self.buy()\n",
        "                self.trades.append({\n",
        "                    'type': 'BUY',\n",
        "                    'entry_datetime': self.data.datetime.datetime(0),\n",
        "                    'entry_price': self.data.close[0],\n",
        "                    'entry_tick_volume': self.data.volume[0],\n",
        "                })\n",
        "\n",
        "            elif self.trend[0] == -1:  # Sell\n",
        "                self.buy_price = self.data.close[0]\n",
        "                self.sell()\n",
        "                self.trades.append({\n",
        "                    'type': 'SELL',\n",
        "                    'entry_datetime': self.data.datetime.datetime(0),\n",
        "                    'entry_price': self.data.close[0],\n",
        "                    'entry_tick_volume': self.data.volume[0],\n",
        "                })\n",
        "\n",
        "        else:\n",
        "            # Exit on opposite signal\n",
        "            if (self.position.size > 0 and self.trend[0] == -1) or \\\n",
        "               (self.position.size < 0 and self.trend[0] == 1):\n",
        "\n",
        "                self.close()\n",
        "                self.trades[-1].update({\n",
        "                    'exit_datetime': self.data.datetime.datetime(0),\n",
        "                    'exit_price': self.data.close[0],\n",
        "                    'exit_tick_volume': self.data.volume[0],\n",
        "                    'pnl': self.data.close[0] - self.buy_price if self.position.size > 0\n",
        "                            else self.buy_price - self.data.close[0]\n",
        "                })\n",
        "\n",
        "    def stop(self):\n",
        "        # Save trades to CSV\n",
        "        df = pd.DataFrame(self.trades)\n",
        "        df.to_csv(\"beluga_trades.csv\", index=False)\n",
        "        print(\"Trades saved to beluga_trades.csv\")\n"
      ],
      "metadata": {
        "id": "g2sbBJQW-ioI"
      },
      "execution_count": 19,
      "outputs": []
    },
    {
      "cell_type": "code",
      "source": [
        "# 3. Load CSV\n",
        "df = pd.read_csv('XAUUSD_H1_201001040100_202507252300.csv')\n",
        "\n",
        "# Rename columns (strip < >) - added this step to match the previous cell\n",
        "df.columns = [col.strip('<>').capitalize() for col in df.columns]\n",
        "\n",
        "\n",
        "df['datetime'] = pd.to_datetime(df['Date'] + ' ' + df['Time'])\n",
        "df.set_index('datetime', inplace=True)\n",
        "\n",
        "# Optional: Drop Vol and Spread if they are all 0 (check if columns exist first)\n",
        "if 'Vol' in df.columns:\n",
        "    df.drop(columns=['Vol'], inplace=True)\n",
        "if 'Spread' in df.columns:\n",
        "    df.drop(columns=['Spread'], inplace=True)\n",
        "\n",
        "\n",
        "# Calculate a simple trend indicator (e.g., difference from rolling mean)\n",
        "window_size = 20 # You can adjust this window size\n",
        "df['trend'] = df['Close'] - df['Close'].rolling(window=window_size).mean()\n",
        "\n",
        "# Convert trend to signals (1 for buy, -1 for sell, 0 for no signal)\n",
        "df['trend'] = df['trend'].apply(lambda x: 1 if x > 0 else (-1 if x < 0 else 0))\n",
        "\n",
        "\n",
        "# 4. Feed to Backtrader\n",
        "data = CustomPandasData(dataname=df)\n",
        "\n",
        "cerebro = bt.Cerebro()\n",
        "cerebro.addstrategy(BelugaTrendStrategy)\n",
        "cerebro.adddata(data)\n",
        "cerebro.run()\n",
        "\n",
        "# Print the data after execution\n",
        "print(df.head())"
      ],
      "metadata": {
        "colab": {
          "base_uri": "https://localhost:8080/"
        },
        "id": "fCDvu90a_TPP",
        "outputId": "541957fa-4afb-476d-d8e7-82c5da4bdf7b"
      },
      "execution_count": 24,
      "outputs": [
        {
          "output_type": "stream",
          "name": "stdout",
          "text": [
            "Trades saved to beluga_trades.csv\n",
            "                           Date      Time     Open     High      Low    Close  \\\n",
            "datetime                                                                        \n",
            "2010-01-04 01:00:00  2010.01.04  01:00:00  1094.61  1096.90  1093.08  1094.49   \n",
            "2010-01-04 02:00:00  2010.01.04  02:00:00  1094.95  1095.95  1094.00  1095.65   \n",
            "2010-01-04 03:00:00  2010.01.04  03:00:00  1095.35  1099.15  1095.28  1097.87   \n",
            "2010-01-04 04:00:00  2010.01.04  04:00:00  1097.87  1099.64  1096.95  1098.89   \n",
            "2010-01-04 05:00:00  2010.01.04  05:00:00  1098.86  1102.75  1098.52  1101.60   \n",
            "\n",
            "                     Tickvol  trend  \n",
            "datetime                             \n",
            "2010-01-04 01:00:00     3364      0  \n",
            "2010-01-04 02:00:00     3017      0  \n",
            "2010-01-04 03:00:00     3242      0  \n",
            "2010-01-04 04:00:00     2677      0  \n",
            "2010-01-04 05:00:00     2954      0  \n"
          ]
        }
      ]
    },
    {
      "cell_type": "code",
      "metadata": {
        "colab": {
          "base_uri": "https://localhost:8080/"
        },
        "id": "c3afb2d1",
        "outputId": "ea5708bc-8ccd-4e7a-9793-dbbbc042bcfb"
      },
      "source": [
        "import pandas as pd\n",
        "\n",
        "# Load the saved trades from the CSV file\n",
        "trades_df = pd.read_csv(\"beluga_trades.csv\")\n",
        "\n",
        "# Display the trades DataFrame\n",
        "print(trades_df)"
      ],
      "execution_count": 25,
      "outputs": [
        {
          "output_type": "stream",
          "name": "stdout",
          "text": [
            "      type       entry_datetime  entry_price  entry_tick_volume  \\\n",
            "0      BUY  2010-01-04 20:00:00      1117.55                NaN   \n",
            "1      BUY  2010-01-05 13:00:00      1126.70                NaN   \n",
            "2     SELL  2010-01-05 15:00:00      1120.40                NaN   \n",
            "3      BUY  2010-01-05 17:00:00      1123.75                NaN   \n",
            "4     SELL  2010-01-05 19:00:00      1117.50                NaN   \n",
            "...    ...                  ...          ...                ...   \n",
            "8389   BUY  2025-07-23 11:00:00      3428.40                NaN   \n",
            "8390   BUY  2025-07-23 14:00:00      3428.12                NaN   \n",
            "8391  SELL  2025-07-23 16:00:00      3413.51                NaN   \n",
            "8392   BUY  2025-07-25 04:00:00      3370.35                NaN   \n",
            "8393  SELL  2025-07-25 06:00:00      3359.11                NaN   \n",
            "\n",
            "            exit_datetime  exit_price  exit_tick_volume    pnl  \n",
            "0     2010-01-05 12:00:00     1121.40               NaN   3.85  \n",
            "1     2010-01-05 14:00:00     1120.50               NaN  -6.20  \n",
            "2     2010-01-05 16:00:00     1124.75               NaN  -4.35  \n",
            "3     2010-01-05 18:00:00     1121.40               NaN  -2.35  \n",
            "4     2010-01-06 03:00:00     1123.95               NaN  -6.45  \n",
            "...                   ...         ...               ...    ...  \n",
            "8389  2025-07-23 13:00:00     3422.74               NaN  -5.66  \n",
            "8390  2025-07-23 15:00:00     3419.98               NaN  -8.14  \n",
            "8391  2025-07-25 03:00:00     3372.25               NaN  41.26  \n",
            "8392  2025-07-25 05:00:00     3363.21               NaN  -7.14  \n",
            "8393                  NaN         NaN               NaN    NaN  \n",
            "\n",
            "[8394 rows x 8 columns]\n"
          ]
        }
      ]
    },
    {
      "cell_type": "code",
      "metadata": {
        "colab": {
          "base_uri": "https://localhost:8080/",
          "height": 17
        },
        "id": "fd706b99",
        "outputId": "d15a923b-5fa2-4df6-fcfb-e8887bf15856"
      },
      "source": [
        "from google.colab import files\n",
        "\n",
        "# Download the trades_with_indicators.csv file\n",
        "files.download('trades_with_indicators.csv')"
      ],
      "execution_count": 49,
      "outputs": [
        {
          "output_type": "display_data",
          "data": {
            "text/plain": [
              "<IPython.core.display.Javascript object>"
            ],
            "application/javascript": [
              "\n",
              "    async function download(id, filename, size) {\n",
              "      if (!google.colab.kernel.accessAllowed) {\n",
              "        return;\n",
              "      }\n",
              "      const div = document.createElement('div');\n",
              "      const label = document.createElement('label');\n",
              "      label.textContent = `Downloading \"${filename}\": `;\n",
              "      div.appendChild(label);\n",
              "      const progress = document.createElement('progress');\n",
              "      progress.max = size;\n",
              "      div.appendChild(progress);\n",
              "      document.body.appendChild(div);\n",
              "\n",
              "      const buffers = [];\n",
              "      let downloaded = 0;\n",
              "\n",
              "      const channel = await google.colab.kernel.comms.open(id);\n",
              "      // Send a message to notify the kernel that we're ready.\n",
              "      channel.send({})\n",
              "\n",
              "      for await (const message of channel.messages) {\n",
              "        // Send a message to notify the kernel that we're ready.\n",
              "        channel.send({})\n",
              "        if (message.buffers) {\n",
              "          for (const buffer of message.buffers) {\n",
              "            buffers.push(buffer);\n",
              "            downloaded += buffer.byteLength;\n",
              "            progress.value = downloaded;\n",
              "          }\n",
              "        }\n",
              "      }\n",
              "      const blob = new Blob(buffers, {type: 'application/binary'});\n",
              "      const a = document.createElement('a');\n",
              "      a.href = window.URL.createObjectURL(blob);\n",
              "      a.download = filename;\n",
              "      div.appendChild(a);\n",
              "      a.click();\n",
              "      div.remove();\n",
              "    }\n",
              "  "
            ]
          },
          "metadata": {}
        },
        {
          "output_type": "display_data",
          "data": {
            "text/plain": [
              "<IPython.core.display.Javascript object>"
            ],
            "application/javascript": [
              "download(\"download_f25e3b32-6e15-41f5-b636-d0d7994cf463\", \"trades_with_indicators.csv\", 1692679)"
            ]
          },
          "metadata": {}
        }
      ]
    }
  ]
}